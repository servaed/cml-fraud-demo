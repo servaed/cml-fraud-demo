{
 "cells": [
  {
   "cell_type": "markdown",
   "metadata": {},
   "source": [
    "# Credit Card Fraud Model Build"
   ]
  },
  {
   "cell_type": "markdown",
   "metadata": {},
   "source": [
    "This notebook explores **building the fraud detection model**.\n",
    "This model will learn what \"normal\" transactions are like, and will judge whether a new transaction is different enough from a \"normal\" one that we should consider it fraudulent.\n",
    "\n",
    "The following work will look fairly standard to anyone having trained machine learning models using python Jupyter notebooks.\n",
    "The CML platform provides a **fully capable Jupyter notebook environment** that data scientists know and love.\n",
    "\n",
    "In this part, you will learn how to train ML models using pandas and both scikit-learn's OneClassSVM and an autoencoder using Pytorch. For more detailed information on that approaches used here, please see Cloudera Fast Forward's [Deep Learning for Anomaly Detection](https://ff12.fastforwardlabs.com/) report.\n",
    "\n",
    "If you haven't yet, run through the initialization steps in the README file and Part 1. \n",
    "In Part 1, the data is imported into the `default.cc_data` table in Hive. \n",
    "All data accesses fetch from Hive."
   ]
  },
  {
   "cell_type": "markdown",
   "metadata": {},
   "source": [
    "We will use the Kaggle [Credit Card Fraud Detection](https://www.kaggle.com/mlg-ulb/creditcardfraud) dataset here. The datasets contains transactions made by credit cards in September 2013 by European cardholders, and presents transactions that occurred in two days, where we have 492 frauds out of 284,807 transactions. The dataset is highly unbalanced, the positive class (frauds) account for 0.172% of all transactions.\n",
    "\n",
    "The dataset should be uploaded to hive in the step 1. We will first load it as a Pandas DataFrame via Spark, and check the number of positive and negative samples."
   ]
  },
  {
   "cell_type": "code",
   "execution_count": 1,
   "metadata": {},
   "outputs": [
    {
     "name": "stdout",
     "output_type": "stream",
     "text": [
      "root\n",
      " |-- Time: decimal(10,0) (nullable = true)\n",
      " |-- V1: double (nullable = true)\n",
      " |-- V2: double (nullable = true)\n",
      " |-- V3: double (nullable = true)\n",
      " |-- V4: double (nullable = true)\n",
      " |-- V5: double (nullable = true)\n",
      " |-- V6: double (nullable = true)\n",
      " |-- V7: double (nullable = true)\n",
      " |-- V8: double (nullable = true)\n",
      " |-- V9: double (nullable = true)\n",
      " |-- V10: double (nullable = true)\n",
      " |-- V11: double (nullable = true)\n",
      " |-- V12: double (nullable = true)\n",
      " |-- V13: double (nullable = true)\n",
      " |-- V14: double (nullable = true)\n",
      " |-- V15: double (nullable = true)\n",
      " |-- V16: double (nullable = true)\n",
      " |-- V17: double (nullable = true)\n",
      " |-- V18: double (nullable = true)\n",
      " |-- V19: double (nullable = true)\n",
      " |-- V20: double (nullable = true)\n",
      " |-- V21: double (nullable = true)\n",
      " |-- V22: double (nullable = true)\n",
      " |-- V23: double (nullable = true)\n",
      " |-- V24: double (nullable = true)\n",
      " |-- V25: double (nullable = true)\n",
      " |-- V26: double (nullable = true)\n",
      " |-- V27: double (nullable = true)\n",
      " |-- V28: double (nullable = true)\n",
      " |-- Amount: double (nullable = true)\n",
      " |-- Class: integer (nullable = true)\n",
      "\n"
     ]
    }
   ],
   "source": [
    "from pyspark.sql import SparkSession\n",
    "\n",
    "spark = SparkSession\\\n",
    "    .builder\\\n",
    "    .appName(\"PythonSQL\")\\\n",
    "    .master(\"local[*]\")\\\n",
    "    .getOrCreate()\n",
    "\n",
    "try:\n",
    "    spark_df = spark.sql(\"SELECT * FROM default.cc_data\")\n",
    "    spark_df.printSchema()\n",
    "    data = spark_df.toPandas()\n",
    "except:\n",
    "    data = pd.read_csv(\"/home/cdsw/data/creditcardfraud.zip\")"
   ]
  },
  {
   "cell_type": "code",
   "execution_count": 2,
   "metadata": {},
   "outputs": [
    {
     "name": "stdout",
     "output_type": "stream",
     "text": [
      "Number of records: 284807\n",
      "Positive samples: 284315\n",
      "Negative samples: 492\n"
     ]
    }
   ],
   "source": [
    "print('Number of records:',len(data))\n",
    "print('Positive samples:',len(data[data.Class==0]))\n",
    "print('Negative samples:',len(data[data.Class==1]))"
   ]
  },
  {
   "cell_type": "markdown",
   "metadata": {},
   "source": [
    "The dataset contains only numerical input variables which are the result of a PCA transformation. Features V1, V2, … V28 are the principal components obtained using a PCA process, the only features which have not been transformed with PCA are 'Time' and 'Amount'. Feature 'Time' contains the seconds elapsed between each transaction and the first transaction in the dataset. The feature 'Amount' is the transaction Amount, and the feature 'Class' is the response variable and it takes value 1 in case of fraud and 0 otherwise."
   ]
  },
  {
   "cell_type": "code",
   "execution_count": 3,
   "metadata": {},
   "outputs": [
    {
     "data": {
      "text/html": [
       "<div>\n",
       "<style scoped>\n",
       "    .dataframe tbody tr th:only-of-type {\n",
       "        vertical-align: middle;\n",
       "    }\n",
       "\n",
       "    .dataframe tbody tr th {\n",
       "        vertical-align: top;\n",
       "    }\n",
       "\n",
       "    .dataframe thead th {\n",
       "        text-align: right;\n",
       "    }\n",
       "</style>\n",
       "<table border=\"1\" class=\"dataframe\">\n",
       "  <thead>\n",
       "    <tr style=\"text-align: right;\">\n",
       "      <th></th>\n",
       "      <th>Time</th>\n",
       "      <th>V1</th>\n",
       "      <th>V2</th>\n",
       "      <th>V3</th>\n",
       "      <th>V4</th>\n",
       "      <th>V5</th>\n",
       "      <th>V6</th>\n",
       "      <th>V7</th>\n",
       "      <th>V8</th>\n",
       "      <th>V9</th>\n",
       "      <th>...</th>\n",
       "      <th>V21</th>\n",
       "      <th>V22</th>\n",
       "      <th>V23</th>\n",
       "      <th>V24</th>\n",
       "      <th>V25</th>\n",
       "      <th>V26</th>\n",
       "      <th>V27</th>\n",
       "      <th>V28</th>\n",
       "      <th>Amount</th>\n",
       "      <th>Class</th>\n",
       "    </tr>\n",
       "  </thead>\n",
       "  <tbody>\n",
       "    <tr>\n",
       "      <td>0</td>\n",
       "      <td>0</td>\n",
       "      <td>-1.359807</td>\n",
       "      <td>-0.072781</td>\n",
       "      <td>2.536347</td>\n",
       "      <td>1.378155</td>\n",
       "      <td>-0.338321</td>\n",
       "      <td>0.462388</td>\n",
       "      <td>0.239599</td>\n",
       "      <td>0.098698</td>\n",
       "      <td>0.363787</td>\n",
       "      <td>...</td>\n",
       "      <td>-0.018307</td>\n",
       "      <td>0.277838</td>\n",
       "      <td>-0.110474</td>\n",
       "      <td>0.066928</td>\n",
       "      <td>0.128539</td>\n",
       "      <td>-0.189115</td>\n",
       "      <td>0.133558</td>\n",
       "      <td>-0.021053</td>\n",
       "      <td>149.62</td>\n",
       "      <td>0</td>\n",
       "    </tr>\n",
       "    <tr>\n",
       "      <td>1</td>\n",
       "      <td>0</td>\n",
       "      <td>1.191857</td>\n",
       "      <td>0.266151</td>\n",
       "      <td>0.166480</td>\n",
       "      <td>0.448154</td>\n",
       "      <td>0.060018</td>\n",
       "      <td>-0.082361</td>\n",
       "      <td>-0.078803</td>\n",
       "      <td>0.085102</td>\n",
       "      <td>-0.255425</td>\n",
       "      <td>...</td>\n",
       "      <td>-0.225775</td>\n",
       "      <td>-0.638672</td>\n",
       "      <td>0.101288</td>\n",
       "      <td>-0.339846</td>\n",
       "      <td>0.167170</td>\n",
       "      <td>0.125895</td>\n",
       "      <td>-0.008983</td>\n",
       "      <td>0.014724</td>\n",
       "      <td>2.69</td>\n",
       "      <td>0</td>\n",
       "    </tr>\n",
       "    <tr>\n",
       "      <td>2</td>\n",
       "      <td>1</td>\n",
       "      <td>-1.358354</td>\n",
       "      <td>-1.340163</td>\n",
       "      <td>1.773209</td>\n",
       "      <td>0.379780</td>\n",
       "      <td>-0.503198</td>\n",
       "      <td>1.800499</td>\n",
       "      <td>0.791461</td>\n",
       "      <td>0.247676</td>\n",
       "      <td>-1.514654</td>\n",
       "      <td>...</td>\n",
       "      <td>0.247998</td>\n",
       "      <td>0.771679</td>\n",
       "      <td>0.909412</td>\n",
       "      <td>-0.689281</td>\n",
       "      <td>-0.327642</td>\n",
       "      <td>-0.139097</td>\n",
       "      <td>-0.055353</td>\n",
       "      <td>-0.059752</td>\n",
       "      <td>378.66</td>\n",
       "      <td>0</td>\n",
       "    </tr>\n",
       "    <tr>\n",
       "      <td>3</td>\n",
       "      <td>1</td>\n",
       "      <td>-0.966272</td>\n",
       "      <td>-0.185226</td>\n",
       "      <td>1.792993</td>\n",
       "      <td>-0.863291</td>\n",
       "      <td>-0.010309</td>\n",
       "      <td>1.247203</td>\n",
       "      <td>0.237609</td>\n",
       "      <td>0.377436</td>\n",
       "      <td>-1.387024</td>\n",
       "      <td>...</td>\n",
       "      <td>-0.108300</td>\n",
       "      <td>0.005274</td>\n",
       "      <td>-0.190321</td>\n",
       "      <td>-1.175575</td>\n",
       "      <td>0.647376</td>\n",
       "      <td>-0.221929</td>\n",
       "      <td>0.062723</td>\n",
       "      <td>0.061458</td>\n",
       "      <td>123.50</td>\n",
       "      <td>0</td>\n",
       "    </tr>\n",
       "    <tr>\n",
       "      <td>4</td>\n",
       "      <td>2</td>\n",
       "      <td>-1.158233</td>\n",
       "      <td>0.877737</td>\n",
       "      <td>1.548718</td>\n",
       "      <td>0.403034</td>\n",
       "      <td>-0.407193</td>\n",
       "      <td>0.095921</td>\n",
       "      <td>0.592941</td>\n",
       "      <td>-0.270533</td>\n",
       "      <td>0.817739</td>\n",
       "      <td>...</td>\n",
       "      <td>-0.009431</td>\n",
       "      <td>0.798278</td>\n",
       "      <td>-0.137458</td>\n",
       "      <td>0.141267</td>\n",
       "      <td>-0.206010</td>\n",
       "      <td>0.502292</td>\n",
       "      <td>0.219422</td>\n",
       "      <td>0.215153</td>\n",
       "      <td>69.99</td>\n",
       "      <td>0</td>\n",
       "    </tr>\n",
       "  </tbody>\n",
       "</table>\n",
       "<p>5 rows × 31 columns</p>\n",
       "</div>"
      ],
      "text/plain": [
       "  Time        V1        V2        V3        V4        V5        V6        V7  \\\n",
       "0    0 -1.359807 -0.072781  2.536347  1.378155 -0.338321  0.462388  0.239599   \n",
       "1    0  1.191857  0.266151  0.166480  0.448154  0.060018 -0.082361 -0.078803   \n",
       "2    1 -1.358354 -1.340163  1.773209  0.379780 -0.503198  1.800499  0.791461   \n",
       "3    1 -0.966272 -0.185226  1.792993 -0.863291 -0.010309  1.247203  0.237609   \n",
       "4    2 -1.158233  0.877737  1.548718  0.403034 -0.407193  0.095921  0.592941   \n",
       "\n",
       "         V8        V9  ...       V21       V22       V23       V24       V25  \\\n",
       "0  0.098698  0.363787  ... -0.018307  0.277838 -0.110474  0.066928  0.128539   \n",
       "1  0.085102 -0.255425  ... -0.225775 -0.638672  0.101288 -0.339846  0.167170   \n",
       "2  0.247676 -1.514654  ...  0.247998  0.771679  0.909412 -0.689281 -0.327642   \n",
       "3  0.377436 -1.387024  ... -0.108300  0.005274 -0.190321 -1.175575  0.647376   \n",
       "4 -0.270533  0.817739  ... -0.009431  0.798278 -0.137458  0.141267 -0.206010   \n",
       "\n",
       "        V26       V27       V28  Amount  Class  \n",
       "0 -0.189115  0.133558 -0.021053  149.62      0  \n",
       "1  0.125895 -0.008983  0.014724    2.69      0  \n",
       "2 -0.139097 -0.055353 -0.059752  378.66      0  \n",
       "3 -0.221929  0.062723  0.061458  123.50      0  \n",
       "4  0.502292  0.219422  0.215153   69.99      0  \n",
       "\n",
       "[5 rows x 31 columns]"
      ]
     },
     "execution_count": 3,
     "metadata": {},
     "output_type": "execute_result"
    }
   ],
   "source": [
    "data.head()"
   ]
  },
  {
   "cell_type": "markdown",
   "metadata": {},
   "source": [
    "## Data Preprocessing\n",
    "### Choosing positive samples\n",
    "\n",
    "The next step is to munge the data for later steps. \n",
    "As we saw, this dataset has already been preprocessed to be very clean, and entirely numeric.\n",
    "The only column that needs cleaning is `Class`.\n",
    "For anomaly detection, scikit-learn marks inliers as `1`, and outliers as `-1`,\n",
    "whereas this dataset has marked them `0` and `1`, respectively. "
   ]
  },
  {
   "cell_type": "code",
   "execution_count": 4,
   "metadata": {},
   "outputs": [],
   "source": [
    "data['Class'] = data['Class'].replace({0: 1, 1: -1})"
   ]
  },
  {
   "cell_type": "markdown",
   "metadata": {},
   "source": [
    "The autoencoder for fraud detection uses only the positive (non-fraud) samples to train the model, thus only chooses records with Class==0. Then we split the chosen records as train set and test set."
   ]
  },
  {
   "cell_type": "code",
   "execution_count": 5,
   "metadata": {},
   "outputs": [
    {
     "name": "stdout",
     "output_type": "stream",
     "text": [
      "In class training set: 284315\n"
     ]
    }
   ],
   "source": [
    "in_class_set = data[data.Class==1]\n",
    "out_class_set = data[data.Class==-1]\n",
    "print('In class training set:',len(in_class_set))"
   ]
  },
  {
   "cell_type": "markdown",
   "metadata": {},
   "source": [
    "# One Class SVM Model"
   ]
  },
  {
   "cell_type": "markdown",
   "metadata": {},
   "source": [
    "While the main model used in this project is a deep learning model, there are other techniques that can be used for anomaly detection. Here we show how to use a scikit-learn OneClassSVM.\n",
    "\n",
    "This step follows a fairly standard ML workflow. Here, we:\n",
    "- normalize the numeric features\n",
    "- split into *test* and *train* sets\n",
    "- train a classification model using these processed features\n",
    "- evaluate the model's performance."
   ]
  },
  {
   "cell_type": "code",
   "execution_count": 6,
   "metadata": {},
   "outputs": [],
   "source": [
    "from sklearn.model_selection import train_test_split\n",
    "from sklearn.metrics import classification_report, accuracy_score\n",
    "from sklearn.preprocessing import MinMaxScaler\n",
    "from sklearn.svm import OneClassSVM"
   ]
  },
  {
   "cell_type": "markdown",
   "metadata": {},
   "source": [
    "For anomaly detection, we train the model *only* on inliers so it learns what normal data look like.\n",
    "We then test on both inliers and outliers, so splitting the *test* and *train* sets will be slightly different."
   ]
  },
  {
   "cell_type": "code",
   "execution_count": 7,
   "metadata": {},
   "outputs": [],
   "source": [
    "# test/train split\n",
    "X_train, X_test, y_train, y_test = train_test_split(in_class_set.drop('Class', axis=1),\n",
    "                                                     in_class_set['Class'],\n",
    "                                                     test_size=len(out_class_set),  # balanced test set\n",
    "                                                     random_state=42)\n",
    "# add outliers to test set\n",
    "X_test = X_test.append(out_class_set.drop('Class', axis=1))\n",
    "y_test = y_test.append(out_class_set['Class'])"
   ]
  },
  {
   "cell_type": "code",
   "execution_count": 8,
   "metadata": {},
   "outputs": [],
   "source": [
    "# scale features based on test set\n",
    "scaler = MinMaxScaler().fit(X_train)\n",
    "X_train = scaler.transform(X_train)\n",
    "X_test = scaler.transform(X_test)"
   ]
  },
  {
   "cell_type": "code",
   "execution_count": 9,
   "metadata": {},
   "outputs": [
    {
     "name": "stdout",
     "output_type": "stream",
     "text": [
      "[LibSVM]"
     ]
    },
    {
     "data": {
      "text/plain": [
       "OneClassSVM(gamma=0.5, nu=0.01, verbose=True)"
      ]
     },
     "execution_count": 9,
     "metadata": {},
     "output_type": "execute_result"
    }
   ],
   "source": [
    "# train one-class SVM\n",
    "clf = OneClassSVM(gamma=0.5, nu=0.01, verbose=True)\n",
    "clf.fit(X_train)"
   ]
  },
  {
   "cell_type": "code",
   "execution_count": 10,
   "metadata": {},
   "outputs": [
    {
     "name": "stdout",
     "output_type": "stream",
     "text": [
      "train accuracy: 0.9900008103642058\n",
      "test accuracy: 0.8404471544715447\n",
      "              precision    recall  f1-score   support\n",
      "\n",
      "          -1       0.99      0.69      0.81       492\n",
      "           1       0.76      0.99      0.86       492\n",
      "\n",
      "    accuracy                           0.84       984\n",
      "   macro avg       0.87      0.84      0.84       984\n",
      "weighted avg       0.87      0.84      0.84       984\n",
      "\n"
     ]
    }
   ],
   "source": [
    "# evaluate one-class SVM\n",
    "print('train accuracy:', accuracy_score(y_train, clf.predict(X_train)))\n",
    "print('test accuracy:', accuracy_score(y_test, clf.predict(X_test)))\n",
    "print(classification_report(y_test, clf.predict(X_test)))"
   ]
  },
  {
   "cell_type": "code",
   "execution_count": 11,
   "metadata": {},
   "outputs": [
    {
     "data": {
      "text/plain": [
       "<matplotlib.figure.Figure at 0x7fb05655eb38>"
      ]
     },
     "metadata": {},
     "output_type": "display_data"
    }
   ],
   "source": [
    "from sklearn.metrics import roc_curve, roc_auc_score\n",
    "from matplotlib import pyplot as plt\n",
    "\n",
    "ocsvm_auc = roc_auc_score(y_test, clf.score_samples(X_test))\n",
    "fpr, tpr, _ = roc_curve(y_test, clf.score_samples(X_test))\n",
    "plt.plot(fpr, tpr, label='OCSVM')\n",
    "plt.title('OCSVM: AUROC=%.3f' % (ocsvm_auc))\n",
    "plt.ylabel('true positive rate')\n",
    "plt.xlabel('false positive rate')\n",
    "plt.show()"
   ]
  },
  {
   "cell_type": "markdown",
   "metadata": {},
   "source": [
    "## Deep Learning Model"
   ]
  },
  {
   "cell_type": "markdown",
   "metadata": {},
   "source": [
    "This section shows how we can train a deep learning model using pytorch."
   ]
  },
  {
   "cell_type": "code",
   "execution_count": 12,
   "metadata": {},
   "outputs": [],
   "source": [
    "from datetime import datetime\n",
    "import numpy as np\n",
    "import pandas as pd\n",
    "import torch\n",
    "import torch.nn as nn\n",
    "import torch.nn.functional as F\n",
    "from torch.utils.data import TensorDataset, DataLoader"
   ]
  },
  {
   "cell_type": "markdown",
   "metadata": {},
   "source": [
    "### Data Preprocessing"
   ]
  },
  {
   "cell_type": "markdown",
   "metadata": {},
   "source": [
    "When training the model, we will use the full dataset and not a balanced set like we did for the OneClassSVM."
   ]
  },
  {
   "cell_type": "code",
   "execution_count": 13,
   "metadata": {},
   "outputs": [],
   "source": [
    "from sklearn.model_selection import train_test_split\n",
    "feature_names=data.columns.values[:-1]\n",
    "train_test_set = in_class_set[feature_names]\n",
    "train_set, test_set = train_test_split(train_test_set, test_size=0.2, random_state=42)"
   ]
  },
  {
   "cell_type": "code",
   "execution_count": 14,
   "metadata": {},
   "outputs": [
    {
     "data": {
      "text/plain": [
       "array([[8.42327013e-01, 9.47416596e-01, 7.97217483e-01, 8.81816356e-01,\n",
       "        2.41740662e-01, 5.43571003e-01, 5.15661441e-01, 4.19171267e-01,\n",
       "        8.02040109e-01, 4.16891659e-01, 4.47903682e-01, 2.35464057e-01,\n",
       "        6.15377573e-01, 4.10107015e-01, 5.23937212e-01, 4.48405051e-01,\n",
       "        6.02247154e-01, 6.71423155e-01, 6.12703253e-01, 5.13449227e-01,\n",
       "        4.11165178e-01, 6.10928994e-01, 5.39959714e-01, 6.67924552e-01,\n",
       "        5.06573308e-01, 5.33984885e-01, 5.03033612e-01, 4.65364700e-01,\n",
       "        2.22235356e-01, 5.09856012e-03],\n",
       "       [2.44658194e-01, 9.79156142e-01, 7.97062325e-01, 8.90512717e-01,\n",
       "        3.03888114e-01, 5.48372609e-01, 5.15350500e-01, 4.21609233e-01,\n",
       "        7.95745386e-01, 3.66345976e-01, 4.95729107e-01, 3.75257082e-01,\n",
       "        6.96864586e-01, 5.41487510e-01, 5.84645532e-01, 3.64243237e-01,\n",
       "        5.45108394e-01, 6.30551391e-01, 5.31712561e-01, 5.85659779e-01,\n",
       "        4.13125001e-01, 6.06201154e-01, 5.15266633e-01, 6.62486089e-01,\n",
       "        4.14903779e-01, 6.25814080e-01, 3.86877333e-01, 4.70760274e-01,\n",
       "        2.21269048e-01, 5.08736791e-05]])"
      ]
     },
     "execution_count": 14,
     "metadata": {},
     "output_type": "execute_result"
    }
   ],
   "source": [
    "scaler=MinMaxScaler().fit(train_set)\n",
    "train_set=scaler.transform(train_set)\n",
    "test_set=scaler.transform(test_set)\n",
    "train_set[:2]"
   ]
  },
  {
   "cell_type": "markdown",
   "metadata": {},
   "source": [
    "We can also check the distribution of each feature. The following diagram shows the distribution of the first 4 features."
   ]
  },
  {
   "cell_type": "code",
   "execution_count": 15,
   "metadata": {},
   "outputs": [
    {
     "data": {
      "text/plain": [
       "<matplotlib.axes._subplots.AxesSubplot at 0x7fb055e716d8>"
      ]
     },
     "execution_count": 15,
     "metadata": {},
     "output_type": "execute_result"
    },
    {
     "data": {
      "image/png": "[encoded data removed]",
      "text/plain": [
       "<matplotlib.figure.Figure at 0x7fb055ea0c18>"
      ]
     },
     "metadata": {
      "needs_background": "light"
     },
     "output_type": "display_data"
    }
   ],
   "source": [
    "import matplotlib.pyplot as plt\n",
    "%matplotlib inline\n",
    "pd.Series(train_set[:,0]).hist(bins=100)\n",
    "pd.Series(train_set[:,1]).hist(bins=100)\n",
    "pd.Series(train_set[:,2]).hist(bins=100)\n",
    "pd.Series(train_set[:,3]).hist(bins=100)"
   ]
  },
  {
   "cell_type": "markdown",
   "metadata": {},
   "source": [
    "### Model Definition\n",
    "\n",
    "Here we define the autoencoder model for PyTorch. There are 2 hidden layers each for the encoder and decoder, with 15 and 7 cells respectively, and ReLU is used as the activation function."
   ]
  },
  {
   "cell_type": "code",
   "execution_count": 16,
   "metadata": {},
   "outputs": [],
   "source": [
    "class autoencoder(nn.Module):\n",
    "    def __init__(self,num_input):\n",
    "        super(autoencoder, self).__init__()\n",
    "        self.encoder = nn.Sequential(\n",
    "            nn.Linear(num_input, 15),\n",
    "            nn.ReLU(True),\n",
    "            nn.Linear(15, 7))\n",
    "        self.decoder = nn.Sequential(\n",
    "            nn.Linear(7, 15),\n",
    "            nn.ReLU(True),\n",
    "            nn.Linear(15, num_input),\n",
    "            nn.Tanh())\n",
    "\n",
    "    def forward(self, x):\n",
    "        x = self.encoder(x)\n",
    "        x = self.decoder(x)\n",
    "        return x"
   ]
  },
  {
   "cell_type": "markdown",
   "metadata": {},
   "source": [
    "### Define the dataloader"
   ]
  },
  {
   "cell_type": "markdown",
   "metadata": {},
   "source": [
    "To make this process work with both CPU and GPU sessions, the GPU specific requirements are put after a `if torch.cuda.is_available():` check."
   ]
  },
  {
   "cell_type": "code",
   "execution_count": 17,
   "metadata": {},
   "outputs": [],
   "source": [
    "batch_size = 256\n",
    "\n",
    "# pytorch parallelism does not work as expected when using GPU.\n",
    "if torch.cuda.is_available():\n",
    "    num_workers = 4\n",
    "else:\n",
    "    num_workers = 0\n",
    "\n",
    "inputs = torch.tensor(train_set, dtype=torch.float32)\n",
    "dataset = TensorDataset(inputs)\n",
    "dataloader = DataLoader(dataset, batch_size=batch_size, num_workers=num_workers, shuffle=False)"
   ]
  },
  {
   "cell_type": "markdown",
   "metadata": {},
   "source": [
    "### Define loss function and optimizer"
   ]
  },
  {
   "cell_type": "code",
   "execution_count": 18,
   "metadata": {},
   "outputs": [],
   "source": [
    "lr = 0.01\n",
    "\n",
    "model = autoencoder(inputs.shape[1])\n",
    "criterion = nn.MSELoss(reduction='sum')\n",
    "optimizer = torch.optim.Adam(model.parameters(), lr=lr, weight_decay=1e-5)\n",
    "\n",
    "if torch.cuda.is_available():\n",
    "    model.to('cuda') \n",
    "    criterion.to('cuda')\n",
    "    inputs.to('cuda')"
   ]
  },
  {
   "cell_type": "markdown",
   "metadata": {},
   "source": [
    "### Defining test function\n",
    "\n",
    "The test function is used for cross validation during the training. Here we choose to do cross validation for each 5 epochs."
   ]
  },
  {
   "cell_type": "code",
   "execution_count": 19,
   "metadata": {},
   "outputs": [],
   "source": [
    "def test():\n",
    "    model.eval()\n",
    "    with torch.no_grad():\n",
    "        tests_=torch.tensor(test_set, dtype=torch.float32)\n",
    "        if torch.cuda.is_available():\n",
    "            tests_.to('cuda')\n",
    "        outputs = model(tests_)\n",
    "        loss=criterion(outputs,tests_)\n",
    "    return loss.item()/(tests_.shape[0]*tests_.shape[1])"
   ]
  },
  {
   "cell_type": "markdown",
   "metadata": {},
   "source": [
    "### Model training"
   ]
  },
  {
   "cell_type": "code",
   "execution_count": 20,
   "metadata": {},
   "outputs": [
    {
     "name": "stdout",
     "output_type": "stream",
     "text": [
      "2020-07-15 09:22:57.996749 epoch [5/100], loss:0.001131, test_set_loss:0.001100\n",
      "2020-07-15 09:23:12.691952 epoch [10/100], loss:0.001023, test_set_loss:0.001017\n",
      "2020-07-15 09:23:27.247957 epoch [15/100], loss:0.001015, test_set_loss:0.001007\n",
      "2020-07-15 09:23:40.174849 epoch [20/100], loss:0.001015, test_set_loss:0.000996\n",
      "2020-07-15 09:23:54.091424 epoch [25/100], loss:0.000998, test_set_loss:0.001002\n",
      "2020-07-15 09:24:07.949289 epoch [30/100], loss:0.001051, test_set_loss:0.002114\n",
      "2020-07-15 09:24:23.586194 epoch [35/100], loss:0.001413, test_set_loss:0.001400\n",
      "2020-07-15 09:24:37.028436 epoch [40/100], loss:0.001370, test_set_loss:0.001373\n",
      "2020-07-15 09:24:50.408207 epoch [45/100], loss:0.001443, test_set_loss:0.001436\n",
      "2020-07-15 09:25:04.626012 epoch [50/100], loss:0.001980, test_set_loss:0.001960\n",
      "2020-07-15 09:25:20.305788 epoch [55/100], loss:0.001706, test_set_loss:0.001700\n",
      "2020-07-15 09:25:34.430974 epoch [60/100], loss:0.001655, test_set_loss:0.001651\n",
      "2020-07-15 09:25:47.994207 epoch [65/100], loss:0.001708, test_set_loss:0.001697\n",
      "2020-07-15 09:26:02.165392 epoch [70/100], loss:0.001694, test_set_loss:0.001693\n",
      "2020-07-15 09:26:17.061397 epoch [75/100], loss:0.001692, test_set_loss:0.001686\n",
      "2020-07-15 09:26:32.543940 epoch [80/100], loss:0.001690, test_set_loss:0.001690\n",
      "2020-07-15 09:26:49.120109 epoch [85/100], loss:0.001690, test_set_loss:0.001689\n",
      "2020-07-15 09:27:04.576103 epoch [90/100], loss:0.001689, test_set_loss:0.001690\n",
      "2020-07-15 09:27:21.265877 epoch [95/100], loss:0.001689, test_set_loss:0.001686\n",
      "2020-07-15 09:27:36.665879 epoch [100/100], loss:0.001689, test_set_loss:0.001684\n"
     ]
    }
   ],
   "source": [
    "num_epochs = 100\n",
    "\n",
    "for epoch in range(num_epochs):\n",
    "    model.train()\n",
    "    loss_sum=0.0; num=0\n",
    "    for inputs, in dataloader:\n",
    "        outputs = model(inputs)\n",
    "        loss = criterion(outputs, inputs)\n",
    "\n",
    "        loss_sum+=loss.item()\n",
    "        num+=(inputs.shape[0]*inputs.shape[1])\n",
    "        optimizer.zero_grad()\n",
    "        loss.backward()\n",
    "        optimizer.step()\n",
    "\n",
    "    if (epoch+1)%5 == 0:\n",
    "        print('{} epoch [{}/{}], loss:{:.6f}, test_set_loss:{:.6f}'\n",
    "                .format(datetime.now(), epoch + 1, num_epochs, loss_sum/num, test()))"
   ]
  },
  {
   "cell_type": "markdown",
   "metadata": {},
   "source": [
    "## Model Evaluation\n",
    "\n",
    "To evaluation the predictive capability of the trained model, we do the following:\n",
    "\n",
    "* Preprocess the records using the MinMaxScaler (the *scaler* variable)\n",
    "* Use the preprocessed data as the input vectors of the model, and compute the output vectors by feed forward.\n",
    "* Calculate the root square of the input and output vectors, i.e. the generation losses.\n",
    "* For those generation losses that are greater than a predefined threshold, we score them as *fraud*; otherwise, score as *normal*.\n",
    "\n",
    "The value of the threshold is calculated via the distribution of the generation losses. First lets show the generation losses of the trained model for the *normal* and *fraud* cases."
   ]
  },
  {
   "cell_type": "markdown",
   "metadata": {},
   "source": [
    "### Distribution of generation losses\n",
    "\n",
    "As the dataset is highly unbalanced, we take the whole positive (fraud) records while randomly choosing the equal number of negative (normal) records. The diagram below shows the results."
   ]
  },
  {
   "cell_type": "code",
   "execution_count": 21,
   "metadata": {},
   "outputs": [
    {
     "data": {
      "image/png": "[encoded data removed]",
      "text/plain": [
       "<matplotlib.figure.Figure at 0x7fb06992ab38>"
      ]
     },
     "metadata": {
      "needs_background": "light"
     },
     "output_type": "display_data"
    }
   ],
   "source": [
    "model.eval()\n",
    "\n",
    "with torch.no_grad():\n",
    "    test_set2 = data[data.Class==-1][feature_names]\n",
    "    test_set2=scaler.transform(test_set2)\n",
    "    inputs2=torch.tensor(test_set2, dtype=torch.float32)\n",
    "    if torch.cuda.is_available():\n",
    "        inputs2.to('cuda')\n",
    "    outputs2=model(inputs2)\n",
    "    loss2=torch.sum((inputs2-outputs2)**2,dim=1).sqrt().log()\n",
    "\n",
    "    test_set1=test_set[np.random.choice(len(test_set),size=len(loss2),replace=False)]\n",
    "    inputs1=torch.tensor(test_set1, dtype=torch.float32)\n",
    "    if torch.cuda.is_available():\n",
    "        inputs1.to('cuda')\n",
    "    outputs1=model(inputs1)\n",
    "    loss1=torch.sum((inputs1-outputs1)**2,dim=1).sqrt().log()\n",
    "\n",
    "    pd.Series(loss1.numpy()).hist(bins=100)\n",
    "    pd.Series(loss2.numpy()).hist(bins=100)"
   ]
  },
  {
   "cell_type": "markdown",
   "metadata": {},
   "source": [
    "### Calculation of threshold (*split point*)\n",
    "\n",
    "If the distribution functions of the generation losses are normal, the threshold is easy to calculate. It is the  intersection of the positive-case and negative-case distributions. However, as we see from the diagram above, neither of the distribution function is strictly normal.\n",
    "\n",
    "Here, we define the threshold as the split point that maximizse the average pecision in both positive and negative cases. And use a *5-points* heuristic search approach to find the split point (see the **find_split_point** function).\n",
    "\n",
    "Initially, we define the search range as the minimum generation loss of the positive cases and the maximum of the negative cases. For each iteration, we pick up half of the search range using the heuristic function to evaluate if the picked range contains the split point. When the search range is smaller than 0.01, the iterations stop."
   ]
  },
  {
   "cell_type": "code",
   "execution_count": 22,
   "metadata": {},
   "outputs": [
    {
     "name": "stdout",
     "output_type": "stream",
     "text": [
      "-2.1253912448883057 -> -0.6022694706916809\n",
      "-1.3638303577899933 -> -0.6022694706916809\n",
      "-1.1734401360154152 -> -0.792659692466259\n",
      "-1.1734401360154152 -> -0.9830499142408371\n",
      "-1.1258425805717707 -> -1.0306474696844816\n",
      "-1.1020438028499484 -> -1.0544462474063039\n",
      "-1.1020438028499484 -> -1.0782450251281261\n",
      "-1.0960941084194928 -> -1.0841947195585817\n",
      "-1.0901444139890373 -> -1.0841947195585817\n",
      "\n",
      "Split point: -1.0901444139890373\n"
     ]
    }
   ],
   "source": [
    "def precision_rate(split_point):\n",
    "    rate1=(loss1<split_point).sum().item()/float(len(loss1))\n",
    "    rate2=(loss2>split_point).sum().item()/float(len(loss2))\n",
    "    return (rate1+rate2)/2            \n",
    "\n",
    "def find_split_point(start,end,start_precision,end_precision):\n",
    "    print(start,'->',end)\n",
    "    delta=(end-start)/4.0\n",
    "    precision=[start_precision]\n",
    "    precision+=[precision_rate(start+i*delta) for i in range(1,4)]\n",
    "    precision+=[end_precision]\n",
    "\n",
    "    i = 0 if sum(precision[0:3])>sum(precision[1:4]) else 1\n",
    "    j = i if sum(precision[i:i+3])>sum(precision[2:5]) else 2\n",
    "\n",
    "    if end-start>0.01:\n",
    "        return find_split_point(start+j*delta,start+(j+2)*delta,precision[j],precision[j+2])\n",
    "    else:\n",
    "        return start+delta*np.argmax(precision)\n",
    "\n",
    "\n",
    "(start,end)=(loss1.max().item(),loss2.min().item())\n",
    "(start,end)=(start,end) if start<end else (end,start)\n",
    "split_point=find_split_point(start,end,precision_rate(start),precision_rate(end))\n",
    "print('\\nSplit point:',split_point)"
   ]
  },
  {
   "cell_type": "markdown",
   "metadata": {},
   "source": [
    "From the outputs above, we can see how the search range shrinks with each iterations, and the final split point calculated."
   ]
  },
  {
   "cell_type": "markdown",
   "metadata": {},
   "source": [
    "### Model precision rate"
   ]
  },
  {
   "cell_type": "code",
   "execution_count": 23,
   "metadata": {},
   "outputs": [
    {
     "name": "stdout",
     "output_type": "stream",
     "text": [
      "Precision rate for normal cases: 0.959349593495935\n",
      "Precision rate for fraud cases: 0.8800813008130082\n",
      "Overall precision: 0.9197154471544715\n"
     ]
    }
   ],
   "source": [
    "precision1=(loss1<split_point).sum().item()/float(len(loss1))\n",
    "precision2=(loss2>split_point).sum().item()/float(len(loss2))\n",
    "\n",
    "print('Precision rate for normal cases:',precision1)\n",
    "print('Precision rate for fraud cases:',precision2)\n",
    "print('Overall precision:',(precision1+precision2)/2)"
   ]
  }
 ],
 "metadata": {
  "file_extension": ".py",
  "kernelspec": {
   "display_name": "Python 3",
   "language": "python",
   "name": "python3"
  },
  "language_info": {
   "codemirror_mode": {
    "name": "ipython",
    "version": 3
   },
   "file_extension": ".py",
   "mimetype": "text/x-python",
   "name": "python",
   "nbconvert_exporter": "python",
   "pygments_lexer": "ipython3",
   "version": "3.6.9"
  },
  "mimetype": "text/x-python",
  "name": "python",
  "npconvert_exporter": "python",
  "pygments_lexer": "ipython3",
  "version": 3
 },
 "nbformat": 4,
 "nbformat_minor": 2
}
